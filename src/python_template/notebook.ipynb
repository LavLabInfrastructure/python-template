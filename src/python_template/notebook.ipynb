{
 "cells": [
  {
   "cell_type": "markdown",
   "metadata": {},
   "source": [
    "testing coder startup script"
   ]
  },
  {
   "cell_type": "code",
   "execution_count": 2,
   "metadata": {},
   "outputs": [],
   "source": [
    "import os\n",
    "os.chdir('/workspaces/python-template')"
   ]
  },
  {
   "cell_type": "code",
   "execution_count": 3,
   "metadata": {},
   "outputs": [
    {
     "name": "stdout",
     "output_type": "stream",
     "text": [
      "Installing extension: ms-toolsai.jupyter\n",
      "Installing extension: ms-python.python\n",
      "Installing extension: ms-python.pylint\n",
      "Installing extension: editorconfig.editorconfig\n",
      "Installing extension: njpwerner.autodocstring\n",
      "Installing extension: lextudio.restructuredtext\n",
      "Installing extension: littlefoxteam.vscode-python-test-adapter\n",
      "Installing extension: tombonnike.vscode-status-bar-format-toggle\n",
      "Installing extension: usernamehw.errorlens\n",
      "Installing extension: Gruntfuggly.todo-tree\n",
      "Installing extension: eamodio.gitlens\n",
      "VS Code settings applied.\n"
     ]
    },
    {
     "name": "stderr",
     "output_type": "stream",
     "text": [
      "sh: 1: code-server: not found\n",
      "sh: 1: code-server: not found\n",
      "sh: 1: code-server: not found\n",
      "sh: 1: code-server: not found\n",
      "sh: 1: code-server: not found\n",
      "sh: 1: code-server: not found\n",
      "sh: 1: code-server: not found\n",
      "sh: 1: code-server: not found\n",
      "sh: 1: code-server: not found\n",
      "sh: 1: code-server: not found\n",
      "sh: 1: code-server: not found\n"
     ]
    }
   ],
   "source": [
    "import json, os, sys\n",
    "# Define the possible paths for the devcontainer.json file\n",
    "POSSIBLE_PATHS = ['.devcontainer.json', '.devcontainer/devcontainer.json']\n",
    "\n",
    "# Find the actual path of the devcontainer.json file\n",
    "DEVCONTAINER_FILE = None\n",
    "for path in POSSIBLE_PATHS:\n",
    "    if os.path.isfile(path):\n",
    "        DEVCONTAINER_FILE = path\n",
    "        break\n",
    "\n",
    "if not DEVCONTAINER_FILE:\n",
    "    print('devcontainer.json file not found in the expected locations.')\n",
    "    sys.exit(1)\n",
    "\n",
    "# Load the devcontainer.json file\n",
    "with open(DEVCONTAINER_FILE) as f:\n",
    "    data = json.load(f).get('customizations',{}).get('vscode',{})\n",
    "\n",
    "# Apply VS Code extensions\n",
    "extensions = data.get('extensions', [])\n",
    "if extensions:\n",
    "    for extension in extensions:\n",
    "        print(f'Installing extension: {extension}')\n",
    "        os.system(f'code-server --install-extension {extension}')\n",
    "else:\n",
    "    print(f'No extensions found in {DEVCONTAINER_FILE}')\n",
    "\n",
    "# Apply VS Code settings\n",
    "settings = data.get('settings', {})\n",
    "if settings:\n",
    "    CONFIG_DIR = '${HOME}/.vscode-server/data/Machine'\n",
    "    os.makedirs(CONFIG_DIR, exist_ok=True)\n",
    "    with open(f'{CONFIG_DIR}/settings.json', 'w') as f:\n",
    "        json.dump(settings, f, indent=4)\n",
    "    print('VS Code settings applied.')\n",
    "else:\n",
    "    print(f'No settings found in {DEVCONTAINER_FILE}')"
   ]
  },
  {
   "cell_type": "code",
   "execution_count": null,
   "metadata": {},
   "outputs": [],
   "source": []
  }
 ],
 "metadata": {
  "kernelspec": {
   "display_name": "Python 3",
   "language": "python",
   "name": "python3"
  },
  "language_info": {
   "codemirror_mode": {
    "name": "ipython",
    "version": 3
   },
   "file_extension": ".py",
   "mimetype": "text/x-python",
   "name": "python",
   "nbconvert_exporter": "python",
   "pygments_lexer": "ipython3",
   "version": "3.10.12"
  }
 },
 "nbformat": 4,
 "nbformat_minor": 2
}
